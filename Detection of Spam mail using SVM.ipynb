{
 "cells": [
  {
   "cell_type": "code",
   "execution_count": 1,
   "id": "1b6bf1d0",
   "metadata": {},
   "outputs": [],
   "source": [
    "#import necessary packages \n",
    "import pandas as pd\n",
    "from sklearn.feature_extraction.text import CountVectorizer\n",
    "from sklearn.model_selection import GridSearchCV\n",
    "from sklearn import svm\n",
    "from sklearn.model_selection import train_test_split\n",
    "from sklearn.svm import SVC"
   ]
  },
  {
   "cell_type": "code",
   "execution_count": 2,
   "id": "eae70909",
   "metadata": {},
   "outputs": [],
   "source": [
    "#load data set and create dataframe\n",
    "data=pd.read_csv('https://raw.githubusercontent.com/Shreyakkk/Email-Spam-Detector/master/spam.csv')\n",
    "X=data['EmailText'].values\n",
    "y=data['Label'].values"
   ]
  },
  {
   "cell_type": "code",
   "execution_count": 3,
   "id": "c684fa49",
   "metadata": {},
   "outputs": [
    {
     "data": {
      "text/plain": [
       "SVC(random_state=0)"
      ]
     },
     "execution_count": 3,
     "metadata": {},
     "output_type": "execute_result"
    }
   ],
   "source": [
    "#train and test data\n",
    "X_train, X_test, y_train, y_test = train_test_split(X,y,test_size=0.2,random_state=0)\n",
    "cv=CountVectorizer()\n",
    "X_train=cv.fit_transform(X_train)\n",
    "X_test=cv.transform(X_test)\n",
    "clf = SVC(kernel = 'rbf', random_state = 0)\n",
    "clf.fit(X_train, y_train)"
   ]
  },
  {
   "cell_type": "code",
   "execution_count": 4,
   "id": "b5a099a4",
   "metadata": {},
   "outputs": [
    {
     "name": "stdout",
     "output_type": "stream",
     "text": [
      "0.9766816143497757\n"
     ]
    }
   ],
   "source": [
    "#Accuracy score\n",
    "sc=clf.score(X_test,y_test)\n",
    "print(sc)"
   ]
  },
  {
   "cell_type": "code",
   "execution_count": null,
   "id": "9441ab4f",
   "metadata": {},
   "outputs": [],
   "source": []
  }
 ],
 "metadata": {
  "kernelspec": {
   "display_name": "Python 3",
   "language": "python",
   "name": "python3"
  },
  "language_info": {
   "codemirror_mode": {
    "name": "ipython",
    "version": 3
   },
   "file_extension": ".py",
   "mimetype": "text/x-python",
   "name": "python",
   "nbconvert_exporter": "python",
   "pygments_lexer": "ipython3",
   "version": "3.8.8"
  }
 },
 "nbformat": 4,
 "nbformat_minor": 5
}
